{
 "cells": [
  {
   "cell_type": "code",
   "execution_count": 1,
   "id": "d008d2d3",
   "metadata": {},
   "outputs": [],
   "source": [
    "import urllib\n",
    "import requests\n",
    "import pandas as pd\n",
    "from requests_html import HTML\n",
    "from requests_html import HTMLSession"
   ]
  },
  {
   "cell_type": "code",
   "execution_count": 2,
   "id": "5bab0f8a",
   "metadata": {},
   "outputs": [],
   "source": [
    "def get_source(url):\n",
    "     try:\n",
    "         session = HTMLSession()\n",
    "         response = session.get(url)\n",
    "         return response\n",
    " \n",
    "     except requests.exceptions.RequestException as e:\n",
    "         print(e)"
   ]
  },
  {
   "cell_type": "code",
   "execution_count": 3,
   "id": "04acd992",
   "metadata": {},
   "outputs": [],
   "source": [
    "def scrape_google_results(query):\n",
    "\n",
    "    query = urllib.parse.quote_plus(query)\n",
    "    response = get_source(\"https://www.google.co.uk/search?q=\" + query)\n",
    "\n",
    "    links = list(response.html.absolute_links)\n",
    "    google_domains = ('https://www.google.', \n",
    "                      'https://google.', \n",
    "                      'https://webcache.googleusercontent.', \n",
    "                      'http://webcache.googleusercontent.', \n",
    "                      'https://policies.google.',\n",
    "                      'https://support.google.',\n",
    "                      'https://maps.google.',\n",
    "                      'https://translate.google.')\n",
    "\n",
    "    for url in links[:]:\n",
    "        if url.startswith(google_domains):\n",
    "            links.remove(url)\n",
    "            \n",
    "    return links"
   ]
  },
  {
   "cell_type": "code",
   "execution_count": 4,
   "id": "90f4edd2",
   "metadata": {},
   "outputs": [
    {
     "data": {
      "text/plain": [
       "['https://www.quora.com/What-are-the-best-blogs-about-Python?top_ans=846537',\n",
       " 'https://blog.feedspot.com/python_blogs/',\n",
       " 'https://www.quora.com/What-are-the-best-blogs-about-Python',\n",
       " 'https://www.python.org/blogs/',\n",
       " 'https://draft.dev/learn/python-blogs',\n",
       " 'https://www.fullstackpython.com/blog.html',\n",
       " 'https://python-bloggers.com/',\n",
       " 'https://learnpython.com/blog/',\n",
       " 'https://bloggingfordevs.com/python-blogs/',\n",
       " 'https://medium.com/thedevproject/top-5-python-blogs-that-you-should-follow-and-read-in-2022-1d1671dccbf2',\n",
       " 'https://www.stxnext.com/blog/top-10-blogs-python/']"
      ]
     },
     "execution_count": 4,
     "metadata": {},
     "output_type": "execute_result"
    }
   ],
   "source": [
    "scrape_google_results(\"Python blog\")"
   ]
  }
 ],
 "metadata": {
  "kernelspec": {
   "display_name": "Python 3 (ipykernel)",
   "language": "python",
   "name": "python3"
  },
  "language_info": {
   "codemirror_mode": {
    "name": "ipython",
    "version": 3
   },
   "file_extension": ".py",
   "mimetype": "text/x-python",
   "name": "python",
   "nbconvert_exporter": "python",
   "pygments_lexer": "ipython3",
   "version": "3.9.12"
  }
 },
 "nbformat": 4,
 "nbformat_minor": 5
}
